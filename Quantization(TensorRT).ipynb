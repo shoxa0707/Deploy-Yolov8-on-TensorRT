{
 "cells": [
  {
   "cell_type": "code",
   "execution_count": null,
   "metadata": {
    "id": "6cA9dXxBl8tF"
   },
   "outputs": [],
   "source": [
    "from io import BytesIO\n",
    "import onnx\n",
    "import torch\n",
    "from ultralytics import YOLO\n",
    "from gdrive.MyDrive.Quantization.TensorRT.models.common import PostDetect, optim\n",
    "from gdrive.MyDrive.Quantization.TensorRT.models import EngineBuilder\n",
    "import onnxsim"
   ]
  },
  {
   "cell_type": "markdown",
   "metadata": {
    "id": "rKM2iH3Ff5fw"
   },
   "source": [
    "#### pt to onnx"
   ]
  },
  {
   "cell_type": "code",
   "execution_count": null,
   "metadata": {
    "colab": {
     "base_uri": "https://localhost:8080/"
    },
    "executionInfo": {
     "elapsed": 18841,
     "status": "ok",
     "timestamp": 1689313079039,
     "user": {
      "displayName": "Shoxa Moxa",
      "userId": "03210117852387122015"
     },
     "user_tz": -300
    },
    "id": "9VosR2_hfMy5",
    "outputId": "d62e4864-df13-45d4-b424-1fcbe3d5c16c"
   },
   "outputs": [],
   "source": [
    "pt_model = 'yolov8m.pt'\n",
    "\n",
    "PostDetect.conf_thres = 0.25\n",
    "PostDetect.iou_thres = 0.65\n",
    "PostDetect.topk = 100\n",
    "\n",
    "b = 1\n",
    "YOLOv8 = YOLO(pt_model)\n",
    "model = YOLOv8.model.fuse().eval()\n",
    "device = 'cuda' if torch.cuda.is_available() else 'cpu'\n",
    "for m in model.modules():\n",
    "    optim(m)\n",
    "    m.to(device)\n",
    "model.to(device)\n",
    "fake_input = torch.randn((1,3,640,640)).to(device)\n",
    "for _ in range(2):\n",
    "    model(fake_input)\n",
    "save_path = pt_model.replace('.pt', '.onnx')\n",
    "with BytesIO() as f:\n",
    "    torch.onnx.export(\n",
    "        model,\n",
    "        fake_input,\n",
    "        f,\n",
    "        opset_version=11,\n",
    "        input_names=['images'],\n",
    "        output_names=['num_dets', 'bboxes', 'scores', 'labels'])\n",
    "    f.seek(0)\n",
    "    onnx_model = onnx.load(f)\n",
    "onnx.checker.check_model(onnx_model)\n",
    "shapes = [b, 1, b, 100, 4, b, 100, b, 100]\n",
    "for i in onnx_model.graph.output:\n",
    "    for j in i.type.tensor_type.shape.dim:\n",
    "        j.dim_param = str(shapes.pop(0))\n",
    "try:\n",
    "    onnx_model, check = onnxsim.simplify(onnx_model)\n",
    "    assert check, 'assert check failed'\n",
    "except Exception as e:\n",
    "    print(f'Simplifier failure: {e}')\n",
    "onnx.save(onnx_model, save_path)\n",
    "print(f'ONNX export success, saved as {save_path}')"
   ]
  },
  {
   "cell_type": "markdown",
   "metadata": {
    "id": "7NnI0c6jfmoO"
   },
   "source": [
    "#### Onnx to tensorrt float16"
   ]
  },
  {
   "cell_type": "code",
   "execution_count": null,
   "metadata": {
    "colab": {
     "base_uri": "https://localhost:8080/",
     "height": 357
    },
    "executionInfo": {
     "elapsed": 520,
     "status": "error",
     "timestamp": 1690796183698,
     "user": {
      "displayName": "Shoxa Moxa",
      "userId": "03210117852387122015"
     },
     "user_tz": -300
    },
    "id": "x4PCyOv5ficw",
    "outputId": "28dfbb0f-7253-4859-e0ce-7680b6394877"
   },
   "outputs": [],
   "source": [
    "onnx_model = 'gdrive/MyDrive/yolov8m.onnx'\n",
    "device = 'cuda' if torch.cuda.is_available() else 'cpu'\n",
    "\n",
    "builder = EngineBuilder(onnx_model, device)\n",
    "builder.seg = True\n",
    "builder.weight = 'gdrive/MyDrive/FP16.engine'\n",
    "builder.build(precision='int',\n",
    "              input_shape=[1, 3, 640, 640],\n",
    "              iou_thres=0.65,\n",
    "              conf_thres=0.25,\n",
    "              topk=100)"
   ]
  },
  {
   "cell_type": "code",
   "execution_count": null,
   "metadata": {
    "colab": {
     "base_uri": "https://localhost:8080/",
     "height": 496
    },
    "executionInfo": {
     "elapsed": 512,
     "status": "error",
     "timestamp": 1690796576181,
     "user": {
      "displayName": "Shoxa Moxa",
      "userId": "03210117852387122015"
     },
     "user_tz": -300
    },
    "id": "WtmOinsEeB3U",
    "outputId": "472a5ca0-78b4-4bd9-8865-c86f07a6d193"
   },
   "outputs": [],
   "source": [
    "import cv2\n",
    "import numpy as np\n",
    "import random\n",
    "from gdrive.MyDrive.Quantization.TensorRT.models.utils import blob, det_postprocess, letterbox\n",
    "from gdrive.MyDrive.Quantization.TensorRT.models.cudart_api import TRTEngine\n",
    "\n",
    "engine_path = 'FP16.engine'\n",
    "Engine = TRTEngine(engine_path)\n",
    "H, W = Engine.inp_info[0].shape[-2:]\n",
    "\n",
    "cap = cv2.VideoCapture('video.mp4')\n",
    "\n",
    "if (cap.isOpened()== False):\n",
    "    print(\"Error opening video stream or file\")\n",
    "\n",
    "while(cap.isOpened()):\n",
    "    ret, frame = cap.read()\n",
    "    if ret == True:\n",
    "        draw = frame.copy()\n",
    "        bgr, ratio, dwdh = letterbox(frame, (W, H))\n",
    "        rgb = cv2.cvtColor(bgr, cv2.COLOR_BGR2RGB)\n",
    "        tensor = blob(rgb, return_seg=False)\n",
    "        dwdh = np.array(dwdh * 2, dtype=np.float32)\n",
    "        tensor = np.ascontiguousarray(tensor)\n",
    "        # inference\n",
    "        data = Engine(tensor)\n",
    "        bboxes, scores, labels = det_postprocess(data)\n",
    "        bboxes -= dwdh\n",
    "        bboxes /= ratio\n",
    "\n",
    "        for (bbox, score, label) in zip(bboxes, scores, labels):\n",
    "            bbox = bbox.round().astype(np.int32).tolist()\n",
    "            cls_id = int(label)\n",
    "            cls = 'face'\n",
    "            color = (255, 0, 0)\n",
    "            cv2.rectangle(draw, bbox[:2], bbox[2:], color, 2)\n",
    "            cv2.putText(draw, f'{cls}:{score:.3f}', (bbox[0], bbox[1] - 2), cv2.FONT_HERSHEY_SIMPLEX, 0.75, [225, 255, 255], thickness=2)\n",
    "\n",
    "        cv2.imshow('video', draw)\n",
    "\n",
    "    # Press Q on keyboard to  exit\n",
    "    if cv2.waitKey(25) & 0xFF == ord('q'):\n",
    "        break\n",
    "\n",
    "cap.release()\n",
    "cv2.destroyAllWindows()"
   ]
  },
  {
   "cell_type": "markdown",
   "metadata": {
    "id": "_WrogdEKhyEc"
   },
   "source": [
    "Onnx to tensorrt float32"
   ]
  },
  {
   "cell_type": "code",
   "execution_count": null,
   "metadata": {
    "id": "rf8zpeT_ht9b"
   },
   "outputs": [],
   "source": [
    "onnx_model = 'yolov8m.onnx'\n",
    "device = 'cuda' if torch.cuda.is_available() else 'cpu'\n",
    "\n",
    "builder = EngineBuilder(onnx_model, device)\n",
    "builder.seg = True\n",
    "builder.weight = 'FP32.engine'\n",
    "builder.build(precision='fp32',\n",
    "              input_shape=[1, 3, 640, 640],\n",
    "              iou_thres=0.65,\n",
    "              conf_thres=0.25,\n",
    "              topk=100)"
   ]
  },
  {
   "cell_type": "markdown",
   "metadata": {
    "id": "F3QxcZirHLyb"
   },
   "source": [
    "Onnx to tensorrt int8"
   ]
  },
  {
   "cell_type": "code",
   "execution_count": null,
   "metadata": {
    "colab": {
     "base_uri": "https://localhost:8080/",
     "height": 565
    },
    "executionInfo": {
     "elapsed": 478,
     "status": "error",
     "timestamp": 1689318433380,
     "user": {
      "displayName": "Shoxa Moxa",
      "userId": "03210117852387122015"
     },
     "user_tz": -300
    },
    "id": "dJ-oe8YeG5uU",
    "outputId": "16bfd716-6c00-437d-ea16-f53ed34b2b29"
   },
   "outputs": [],
   "source": [
    "onnx_model = 'yolov8m.onnx'\n",
    "device = 'cuda' if torch.cuda.is_available() else 'cpu'\n",
    "\n",
    "builder = EngineBuilder(onnx_model, device)\n",
    "builder.seg = True\n",
    "builder.weight = 'INT8.engine'\n",
    "builder.build(precision='int8',\n",
    "              input_shape=[1, 3, 640, 640],\n",
    "              iou_thres=0.65,\n",
    "              conf_thres=0.25,\n",
    "              topk=100)"
   ]
  }
 ],
 "metadata": {
  "accelerator": "GPU",
  "colab": {
   "authorship_tag": "ABX9TyMcMLaPKfQHV4W5G6OAnEVL",
   "gpuType": "T4",
   "mount_file_id": "17yjEQD-YKDporAmdvr_2bSIFtqb0x4TC",
   "provenance": []
  },
  "kernelspec": {
   "display_name": "Python 3",
   "language": "python",
   "name": "python3"
  },
  "language_info": {
   "codemirror_mode": {
    "name": "ipython",
    "version": 3
   },
   "file_extension": ".py",
   "mimetype": "text/x-python",
   "name": "python",
   "nbconvert_exporter": "python",
   "pygments_lexer": "ipython3",
   "version": "3.7.3"
  }
 },
 "nbformat": 4,
 "nbformat_minor": 1
}
